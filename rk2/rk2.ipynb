{
 "cells": [
  {
   "attachments": {},
   "cell_type": "markdown",
   "metadata": {},
   "source": [
    "## РК 2. Харитонов А.А. ИУ5-64Б вариант 16\n",
    "Задание. Для заданного набора данных постройте модели классификации или регрессии (в зависимости от конкретной задачи, рассматриваемой в наборе данных). Для построения моделей используйте методы линейной регрессии и градиентного бустинга. Оцените качество моделей на основе подходящих метрик качества (не менее двух метрик). Для построения моделей необходимо выполнить требуемую предобработку данных: заполнение пропусков, кодирование категориальных признаков, и т.д.<br>\n",
    "Датасет: https://www.kaggle.com/san-francisco/sf-restaurant-scores-lives-standard"
   ]
  },
  {
   "cell_type": "code",
   "execution_count": 73,
   "metadata": {},
   "outputs": [
    {
     "name": "stdout",
     "output_type": "stream",
     "text": [
      "<class 'pandas.core.frame.DataFrame'>\n",
      "RangeIndex: 53973 entries, 0 to 53972\n",
      "Data columns (total 23 columns):\n",
      " #   Column                     Non-Null Count  Dtype  \n",
      "---  ------                     --------------  -----  \n",
      " 0   business_id                53973 non-null  int64  \n",
      " 1   business_name              53973 non-null  object \n",
      " 2   business_address           53973 non-null  object \n",
      " 3   business_city              53973 non-null  object \n",
      " 4   business_state             53973 non-null  object \n",
      " 5   business_postal_code       52955 non-null  object \n",
      " 6   business_latitude          34417 non-null  float64\n",
      " 7   business_longitude         34417 non-null  float64\n",
      " 8   business_location          34417 non-null  object \n",
      " 9   business_phone_number      17035 non-null  float64\n",
      " 10  inspection_id              53973 non-null  object \n",
      " 11  inspection_date            53973 non-null  object \n",
      " 12  inspection_score           40363 non-null  float64\n",
      " 13  inspection_type            53973 non-null  object \n",
      " 14  violation_id               41103 non-null  object \n",
      " 15  violation_description      41103 non-null  object \n",
      " 16  risk_category              41103 non-null  object \n",
      " 17  Neighborhoods (old)        34379 non-null  float64\n",
      " 18  Police Districts           34379 non-null  float64\n",
      " 19  Supervisor Districts       34379 non-null  float64\n",
      " 20  Fire Prevention Districts  34327 non-null  float64\n",
      " 21  Zip Codes                  34397 non-null  float64\n",
      " 22  Analysis Neighborhoods     34379 non-null  float64\n",
      "dtypes: float64(10), int64(1), object(12)\n",
      "memory usage: 9.5+ MB\n"
     ]
    }
   ],
   "source": [
    "import pandas as pd\n",
    "from sklearn.linear_model import LinearRegression\n",
    "from sklearn.ensemble import GradientBoostingRegressor\n",
    "from sklearn.model_selection import train_test_split\n",
    "from sklearn.metrics import mean_absolute_error, r2_score\n",
    "from sklearn.preprocessing import LabelEncoder\n",
    "from matplotlib import pyplot as plt\n",
    "import seaborn as sns\n",
    "\n",
    "\n",
    "df = pd.read_csv('restaurant-scores.csv')\n",
    "df.info()"
   ]
  },
  {
   "attachments": {},
   "cell_type": "markdown",
   "metadata": {},
   "source": [
    "Выберем для анализа категории inspection_date, inspection_score, inspection_type, risk_category"
   ]
  },
  {
   "cell_type": "code",
   "execution_count": 74,
   "metadata": {},
   "outputs": [],
   "source": [
    "df = df[['inspection_date', 'inspection_score', 'inspection_type', 'risk_category']]\n",
    "df['inspection_date'] = pd.to_datetime(df['inspection_date']).dt.strftime('%Y')"
   ]
  },
  {
   "cell_type": "code",
   "execution_count": 75,
   "metadata": {},
   "outputs": [
    {
     "data": {
      "text/html": [
       "<div>\n",
       "<style scoped>\n",
       "    .dataframe tbody tr th:only-of-type {\n",
       "        vertical-align: middle;\n",
       "    }\n",
       "\n",
       "    .dataframe tbody tr th {\n",
       "        vertical-align: top;\n",
       "    }\n",
       "\n",
       "    .dataframe thead th {\n",
       "        text-align: right;\n",
       "    }\n",
       "</style>\n",
       "<table border=\"1\" class=\"dataframe\">\n",
       "  <thead>\n",
       "    <tr style=\"text-align: right;\">\n",
       "      <th></th>\n",
       "      <th>inspection_date</th>\n",
       "      <th>inspection_score</th>\n",
       "      <th>inspection_type</th>\n",
       "      <th>risk_category</th>\n",
       "    </tr>\n",
       "  </thead>\n",
       "  <tbody>\n",
       "    <tr>\n",
       "      <th>0</th>\n",
       "      <td>2019</td>\n",
       "      <td>NaN</td>\n",
       "      <td>New Ownership</td>\n",
       "      <td>NaN</td>\n",
       "    </tr>\n",
       "    <tr>\n",
       "      <th>1</th>\n",
       "      <td>2019</td>\n",
       "      <td>96.0</td>\n",
       "      <td>Routine - Unscheduled</td>\n",
       "      <td>Moderate Risk</td>\n",
       "    </tr>\n",
       "    <tr>\n",
       "      <th>2</th>\n",
       "      <td>2017</td>\n",
       "      <td>NaN</td>\n",
       "      <td>New Ownership</td>\n",
       "      <td>NaN</td>\n",
       "    </tr>\n",
       "    <tr>\n",
       "      <th>3</th>\n",
       "      <td>2019</td>\n",
       "      <td>NaN</td>\n",
       "      <td>New Construction</td>\n",
       "      <td>NaN</td>\n",
       "    </tr>\n",
       "    <tr>\n",
       "      <th>4</th>\n",
       "      <td>2016</td>\n",
       "      <td>NaN</td>\n",
       "      <td>New Ownership</td>\n",
       "      <td>High Risk</td>\n",
       "    </tr>\n",
       "  </tbody>\n",
       "</table>\n",
       "</div>"
      ],
      "text/plain": [
       "  inspection_date  inspection_score        inspection_type  risk_category\n",
       "0            2019               NaN          New Ownership            NaN\n",
       "1            2019              96.0  Routine - Unscheduled  Moderate Risk\n",
       "2            2017               NaN          New Ownership            NaN\n",
       "3            2019               NaN       New Construction            NaN\n",
       "4            2016               NaN          New Ownership      High Risk"
      ]
     },
     "execution_count": 75,
     "metadata": {},
     "output_type": "execute_result"
    }
   ],
   "source": [
    "df.head()"
   ]
  },
  {
   "cell_type": "code",
   "execution_count": 76,
   "metadata": {},
   "outputs": [
    {
     "data": {
      "text/plain": [
       "inspection_date      4\n",
       "inspection_score    48\n",
       "inspection_type     15\n",
       "risk_category        3\n",
       "dtype: int64"
      ]
     },
     "execution_count": 76,
     "metadata": {},
     "output_type": "execute_result"
    }
   ],
   "source": [
    "df['inspection_score'] = df['inspection_score'].fillna(df['inspection_score'].mean())\n",
    "df.nunique()"
   ]
  },
  {
   "cell_type": "code",
   "execution_count": 77,
   "metadata": {},
   "outputs": [],
   "source": [
    "lb = LabelEncoder()\n",
    "df['inspection_date'] = lb.fit_transform(df['inspection_date'])\n",
    "df['inspection_type'] = lb.fit_transform(df['inspection_type'])\n",
    "df['risk_category'] = lb.fit_transform(df['risk_category'])"
   ]
  },
  {
   "cell_type": "code",
   "execution_count": 78,
   "metadata": {},
   "outputs": [
    {
     "data": {
      "text/plain": [
       "<AxesSubplot: >"
      ]
     },
     "execution_count": 78,
     "metadata": {},
     "output_type": "execute_result"
    },
    {
     "data": {
      "image/png": "[encoded data removed]",
      "text/plain": [
       "<Figure size 640x480 with 2 Axes>"
      ]
     },
     "metadata": {},
     "output_type": "display_data"
    }
   ],
   "source": [
    "corr = df.corr()\n",
    "plt.figure()\n",
    "sns.heatmap(corr, cbar=True, fmt='.2f', annot=True, cmap='Greens')"
   ]
  },
  {
   "cell_type": "code",
   "execution_count": 84,
   "metadata": {},
   "outputs": [],
   "source": [
    "x, y = df.drop(columns=['inspection_score']), df['inspection_score']\n",
    "x_test, x_train, y_test, y_train = train_test_split(x, y, test_size = 0.2, random_state = 1)\n",
    "\n",
    "gb = GradientBoostingRegressor()\n",
    "gb.fit(x_train, y_train)\n",
    "gb_pred = gb.predict(x_test)\n",
    "\n",
    "lr = LinearRegression()\n",
    "lr.fit(x_train, y_train)#\n",
    "lr_pred = lr.predict(x_test)"
   ]
  },
  {
   "attachments": {},
   "cell_type": "markdown",
   "metadata": {},
   "source": [
    "Для сравнения качества моделей используем метрики средней абсолютной ошибки и коэффициента детерминации. Первый покажет, насколько предсказанные значения отклоняются от настоящих. Второй покажет, насколько точно модель предсказывает значения в целом."
   ]
  },
  {
   "cell_type": "code",
   "execution_count": 85,
   "metadata": {},
   "outputs": [
    {
     "data": {
      "text/html": [
       "<div>\n",
       "<style scoped>\n",
       "    .dataframe tbody tr th:only-of-type {\n",
       "        vertical-align: middle;\n",
       "    }\n",
       "\n",
       "    .dataframe tbody tr th {\n",
       "        vertical-align: top;\n",
       "    }\n",
       "\n",
       "    .dataframe thead th {\n",
       "        text-align: right;\n",
       "    }\n",
       "</style>\n",
       "<table border=\"1\" class=\"dataframe\">\n",
       "  <thead>\n",
       "    <tr style=\"text-align: right;\">\n",
       "      <th></th>\n",
       "      <th>LR</th>\n",
       "      <th>GB</th>\n",
       "    </tr>\n",
       "  </thead>\n",
       "  <tbody>\n",
       "    <tr>\n",
       "      <th>MAE</th>\n",
       "      <td>5.34598</td>\n",
       "      <td>4.3939</td>\n",
       "    </tr>\n",
       "    <tr>\n",
       "      <th>R2</th>\n",
       "      <td>4.299%</td>\n",
       "      <td>19.86%</td>\n",
       "    </tr>\n",
       "  </tbody>\n",
       "</table>\n",
       "</div>"
      ],
      "text/plain": [
       "          LR      GB\n",
       "MAE  5.34598  4.3939\n",
       "R2    4.299%  19.86%"
      ]
     },
     "execution_count": 85,
     "metadata": {},
     "output_type": "execute_result"
    }
   ],
   "source": [
    "lr_mae = mean_absolute_error(y_test, lr_pred)\n",
    "gb_mae = mean_absolute_error(y_test, gb_pred)\n",
    "\n",
    "lr_r2 = r2_score(y_test, lr_pred)\n",
    "gb_r2 = r2_score(y_test, gb_pred)\n",
    "\n",
    "pd.DataFrame.from_dict({\n",
    "    'LR': {\n",
    "        'MAE': round(lr_mae, 5),\n",
    "        'R2': f'{round(lr_r2 * 100, 3)}%'\n",
    "    },\n",
    "    'GB': {\n",
    "        'MAE': round(gb_mae, 5),\n",
    "        'R2': f'{round(gb_r2 * 100, 3)}%'\n",
    "    }\n",
    "})"
   ]
  }
 ],
 "metadata": {
  "kernelspec": {
   "display_name": "chess.ipynb",
   "language": "python",
   "name": "chess.ipynb"
  },
  "language_info": {
   "codemirror_mode": {
    "name": "ipython",
    "version": 3
   },
   "file_extension": ".py",
   "mimetype": "text/x-python",
   "name": "python",
   "nbconvert_exporter": "python",
   "pygments_lexer": "ipython3",
   "version": "3.10.11"
  },
  "orig_nbformat": 4
 },
 "nbformat": 4,
 "nbformat_minor": 2
}
